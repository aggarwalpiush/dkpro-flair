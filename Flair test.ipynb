{
 "cells": [
  {
   "cell_type": "code",
   "execution_count": 1,
   "metadata": {},
   "outputs": [],
   "source": [
    "# Import libraries\n",
    "from flair.data import Sentence\n",
    "from flair.models import SequenceTagger"
   ]
  },
  {
   "cell_type": "code",
   "execution_count": 2,
   "metadata": {},
   "outputs": [],
   "source": [
    "sentence = Sentence('I have been living in Berlin for about 6 years .')"
   ]
  },
  {
   "cell_type": "code",
   "execution_count": 3,
   "metadata": {},
   "outputs": [
    {
     "name": "stdout",
     "output_type": "stream",
     "text": [
      "2020-05-29 14:54:55,013 loading file /home/allan/.flair/models/en-pos-ontonotes-v0.5.pt\n"
     ]
    }
   ],
   "source": [
    "tagger = SequenceTagger.load('ner')"
   ]
  },
  {
   "cell_type": "code",
   "execution_count": 4,
   "metadata": {},
   "outputs": [
    {
     "data": {
      "text/plain": [
       "[Sentence: \"I have been living in Berlin for about 6 years .\"   [− Tokens: 11  − Token-Labels: \"I <PRP> have <VBP> been <VBN> living <VBG> in <IN> Berlin <NNP> for <IN> about <RB> 6 <CD> years <NNS> . <.>\"]]"
      ]
     },
     "execution_count": 4,
     "metadata": {},
     "output_type": "execute_result"
    }
   ],
   "source": [
    "tagger.predict(sentence)"
   ]
  },
  {
   "cell_type": "code",
   "execution_count": 5,
   "metadata": {},
   "outputs": [
    {
     "name": "stdout",
     "output_type": "stream",
     "text": [
      "Sentence: \"I have been living in Berlin for about 6 years .\"   [− Tokens: 11  − Token-Labels: \"I <PRP> have <VBP> been <VBN> living <VBG> in <IN> Berlin <NNP> for <IN> about <RB> 6 <CD> years <NNS> . <.>\"]\n",
      "The following POS tags are found:\n",
      "Span [1]: \"I\"   [− Labels: PRP (1.0)]\n",
      "Span [2]: \"have\"   [− Labels: VBP (1.0)]\n",
      "Span [3]: \"been\"   [− Labels: VBN (1.0)]\n",
      "Span [4]: \"living\"   [− Labels: VBG (1.0)]\n",
      "Span [5]: \"in\"   [− Labels: IN (1.0)]\n",
      "Span [6]: \"Berlin\"   [− Labels: NNP (0.9998)]\n",
      "Span [7]: \"for\"   [− Labels: IN (1.0)]\n",
      "Span [8]: \"about\"   [− Labels: RB (0.9779)]\n",
      "Span [9]: \"6\"   [− Labels: CD (1.0)]\n",
      "Span [10]: \"years\"   [− Labels: NNS (1.0)]\n",
      "Span [11]: \".\"   [− Labels: . (1.0)]\n"
     ]
    }
   ],
   "source": [
    "print(sentence)\n",
    "print('The following NER tags are found:')\n",
    "\n",
    "for entity in sentence.get_spans('ner'):\n",
    "    print(entity)"
   ]
  },
  {
   "cell_type": "code",
   "execution_count": null,
   "metadata": {},
   "outputs": [],
   "source": []
  }
 ],
 "metadata": {
  "kernelspec": {
   "display_name": "Python 3",
   "language": "python",
   "name": "python3"
  },
  "language_info": {
   "codemirror_mode": {
    "name": "ipython",
    "version": 3
   },
   "file_extension": ".py",
   "mimetype": "text/x-python",
   "name": "python",
   "nbconvert_exporter": "python",
   "pygments_lexer": "ipython3",
   "version": "3.6.9"
  }
 },
 "nbformat": 4,
 "nbformat_minor": 4
}
